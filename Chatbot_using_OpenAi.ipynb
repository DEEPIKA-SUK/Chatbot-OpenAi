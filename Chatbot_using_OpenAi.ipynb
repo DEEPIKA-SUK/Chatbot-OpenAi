{
  "nbformat": 4,
  "nbformat_minor": 0,
  "metadata": {
    "colab": {
      "provenance": []
    },
    "kernelspec": {
      "name": "python3",
      "display_name": "Python 3"
    },
    "language_info": {
      "name": "python"
    }
  },
  "cells": [
    {
      "cell_type": "code",
      "source": [
        "pip install openai\n",
        "pip install gradio\n",
        "import gradio\n",
        "from openai import AsyncOpenAI"
      ],
      "metadata": {
        "id": "3R475qRQSIAA"
      },
      "execution_count": 46,
      "outputs": []
    },
    {
      "cell_type": "code",
      "source": [
        "client = OpenAI(\n",
        "  api_key=\"api-key\"\n",
        ")"
      ],
      "metadata": {
        "id": "2EBX2Le5SLnw"
      },
      "execution_count": 47,
      "outputs": []
    },
    {
      "cell_type": "code",
      "source": [
        "messages = [{\"role\": \"system\", \"content\": \"You are a computer scientist\"}]"
      ],
      "metadata": {
        "id": "ILLHtqhhSUoW"
      },
      "execution_count": 48,
      "outputs": []
    },
    {
      "cell_type": "code",
      "source": [
        "def ChatBot(user_prompt):\n",
        "    messages.append({\"role\": \"user\", \"content\": user_prompt})\n",
        "    response = client.chat.completions.create(\n",
        "        model = \"gpt-3.5-turbo-0301\",\n",
        "        messages = messages\n",
        "    )\n",
        "    ChatBot_reply = response[\"choices\"][0][\"message\"][\"content\"]\n",
        "    messages.append({\"role\": \"assistant\", \"content\": ChatBot_reply})\n",
        "    return ChatBot_reply"
      ],
      "metadata": {
        "id": "1Ti1X86uSjKM"
      },
      "execution_count": 52,
      "outputs": []
    },
    {
      "cell_type": "code",
      "source": [
        "app = gradio.Interface(ChatBot, inputs = \"text\", outputs = \"text\", title = \"Computer Scientist\")\n",
        "app.launch(share=True, show_error=True)"
      ],
      "metadata": {
        "colab": {
          "base_uri": "https://localhost:8080/",
          "height": 611
        },
        "id": "EDCjGbQWS3fr",
        "outputId": "13f1e196-b13e-43f7-e832-2079f08ff125"
      },
      "execution_count": 57,
      "outputs": [
        {
          "output_type": "stream",
          "name": "stdout",
          "text": [
            "Colab notebook detected. To show errors in colab notebook, set debug=True in launch()\n",
            "Running on public URL: https://314dbac9d62178c448.gradio.live\n",
            "\n",
            "This share link expires in 72 hours. For free permanent hosting and GPU upgrades, run `gradio deploy` from Terminal to deploy to Spaces (https://huggingface.co/spaces)\n"
          ]
        },
        {
          "output_type": "display_data",
          "data": {
            "text/plain": [
              "<IPython.core.display.HTML object>"
            ],
            "text/html": [
              "<div><iframe src=\"https://314dbac9d62178c448.gradio.live\" width=\"100%\" height=\"500\" allow=\"autoplay; camera; microphone; clipboard-read; clipboard-write;\" frameborder=\"0\" allowfullscreen></iframe></div>"
            ]
          },
          "metadata": {}
        },
        {
          "output_type": "execute_result",
          "data": {
            "text/plain": []
          },
          "metadata": {},
          "execution_count": 57
        }
      ]
    }
  ]
}